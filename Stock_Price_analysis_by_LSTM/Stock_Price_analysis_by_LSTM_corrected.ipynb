{
  "nbformat": 4,
  "nbformat_minor": 0,
  "metadata": {
    "colab": {
      "name": "Stock_Price_analysis_by_LSTM_corrected.ipynb",
      "provenance": []
    },
    "kernelspec": {
      "name": "python3",
      "display_name": "Python 3"
    },
    "language_info": {
      "name": "python"
    },
    "accelerator": "GPU"
  },
  "cells": [
    {
      "cell_type": "code",
      "metadata": {
        "colab": {
          "base_uri": "https://localhost:8080/",
          "height": 691
        },
        "id": "mKBDKHSCKQxM",
        "outputId": "cb9fe7c3-7048-4de0-86ca-fcd6e081a4cb"
      },
      "source": [
        "!pip install yfinance\n",
        "import yfinance as yf\n",
        "import numpy as np\n",
        "import pandas as pd\n",
        "#define the ticker symbol\n",
        "tickerSymbol = 'TSLA'\n",
        "\n",
        "#get data on this ticker\n",
        "tickerData = yf.Ticker(tickerSymbol)\n",
        "\n",
        "#get the historical prices for this ticker\n",
        "tickerDf = tickerData.history(period='1d', start='2015-1-1', end='2021-3-25')\n",
        "\n",
        "#see your data\n",
        "tickerDf"
      ],
      "execution_count": 4,
      "outputs": [
        {
          "output_type": "stream",
          "text": [
            "Requirement already satisfied: yfinance in /usr/local/lib/python3.7/dist-packages (0.1.59)\n",
            "Requirement already satisfied: pandas>=0.24 in /usr/local/lib/python3.7/dist-packages (from yfinance) (1.1.5)\n",
            "Requirement already satisfied: requests>=2.20 in /usr/local/lib/python3.7/dist-packages (from yfinance) (2.23.0)\n",
            "Requirement already satisfied: lxml>=4.5.1 in /usr/local/lib/python3.7/dist-packages (from yfinance) (4.6.3)\n",
            "Requirement already satisfied: numpy>=1.15 in /usr/local/lib/python3.7/dist-packages (from yfinance) (1.19.5)\n",
            "Requirement already satisfied: multitasking>=0.0.7 in /usr/local/lib/python3.7/dist-packages (from yfinance) (0.0.9)\n",
            "Requirement already satisfied: pytz>=2017.2 in /usr/local/lib/python3.7/dist-packages (from pandas>=0.24->yfinance) (2018.9)\n",
            "Requirement already satisfied: python-dateutil>=2.7.3 in /usr/local/lib/python3.7/dist-packages (from pandas>=0.24->yfinance) (2.8.1)\n",
            "Requirement already satisfied: chardet<4,>=3.0.2 in /usr/local/lib/python3.7/dist-packages (from requests>=2.20->yfinance) (3.0.4)\n",
            "Requirement already satisfied: urllib3!=1.25.0,!=1.25.1,<1.26,>=1.21.1 in /usr/local/lib/python3.7/dist-packages (from requests>=2.20->yfinance) (1.24.3)\n",
            "Requirement already satisfied: idna<3,>=2.5 in /usr/local/lib/python3.7/dist-packages (from requests>=2.20->yfinance) (2.10)\n",
            "Requirement already satisfied: certifi>=2017.4.17 in /usr/local/lib/python3.7/dist-packages (from requests>=2.20->yfinance) (2020.12.5)\n",
            "Requirement already satisfied: six>=1.5 in /usr/local/lib/python3.7/dist-packages (from python-dateutil>=2.7.3->pandas>=0.24->yfinance) (1.15.0)\n"
          ],
          "name": "stdout"
        },
        {
          "output_type": "execute_result",
          "data": {
            "text/html": [
              "<div>\n",
              "<style scoped>\n",
              "    .dataframe tbody tr th:only-of-type {\n",
              "        vertical-align: middle;\n",
              "    }\n",
              "\n",
              "    .dataframe tbody tr th {\n",
              "        vertical-align: top;\n",
              "    }\n",
              "\n",
              "    .dataframe thead th {\n",
              "        text-align: right;\n",
              "    }\n",
              "</style>\n",
              "<table border=\"1\" class=\"dataframe\">\n",
              "  <thead>\n",
              "    <tr style=\"text-align: right;\">\n",
              "      <th></th>\n",
              "      <th>Open</th>\n",
              "      <th>High</th>\n",
              "      <th>Low</th>\n",
              "      <th>Close</th>\n",
              "      <th>Volume</th>\n",
              "      <th>Dividends</th>\n",
              "      <th>Stock Splits</th>\n",
              "    </tr>\n",
              "    <tr>\n",
              "      <th>Date</th>\n",
              "      <th></th>\n",
              "      <th></th>\n",
              "      <th></th>\n",
              "      <th></th>\n",
              "      <th></th>\n",
              "      <th></th>\n",
              "      <th></th>\n",
              "    </tr>\n",
              "  </thead>\n",
              "  <tbody>\n",
              "    <tr>\n",
              "      <th>2015-01-02</th>\n",
              "      <td>44.574001</td>\n",
              "      <td>44.650002</td>\n",
              "      <td>42.652000</td>\n",
              "      <td>43.862000</td>\n",
              "      <td>23822000</td>\n",
              "      <td>0</td>\n",
              "      <td>0.0</td>\n",
              "    </tr>\n",
              "    <tr>\n",
              "      <th>2015-01-05</th>\n",
              "      <td>42.910000</td>\n",
              "      <td>43.299999</td>\n",
              "      <td>41.431999</td>\n",
              "      <td>42.018002</td>\n",
              "      <td>26842500</td>\n",
              "      <td>0</td>\n",
              "      <td>0.0</td>\n",
              "    </tr>\n",
              "    <tr>\n",
              "      <th>2015-01-06</th>\n",
              "      <td>42.012001</td>\n",
              "      <td>42.840000</td>\n",
              "      <td>40.841999</td>\n",
              "      <td>42.256001</td>\n",
              "      <td>31309500</td>\n",
              "      <td>0</td>\n",
              "      <td>0.0</td>\n",
              "    </tr>\n",
              "    <tr>\n",
              "      <th>2015-01-07</th>\n",
              "      <td>42.669998</td>\n",
              "      <td>42.956001</td>\n",
              "      <td>41.956001</td>\n",
              "      <td>42.189999</td>\n",
              "      <td>14842000</td>\n",
              "      <td>0</td>\n",
              "      <td>0.0</td>\n",
              "    </tr>\n",
              "    <tr>\n",
              "      <th>2015-01-08</th>\n",
              "      <td>42.562000</td>\n",
              "      <td>42.759998</td>\n",
              "      <td>42.001999</td>\n",
              "      <td>42.124001</td>\n",
              "      <td>17212500</td>\n",
              "      <td>0</td>\n",
              "      <td>0.0</td>\n",
              "    </tr>\n",
              "    <tr>\n",
              "      <th>...</th>\n",
              "      <td>...</td>\n",
              "      <td>...</td>\n",
              "      <td>...</td>\n",
              "      <td>...</td>\n",
              "      <td>...</td>\n",
              "      <td>...</td>\n",
              "      <td>...</td>\n",
              "    </tr>\n",
              "    <tr>\n",
              "      <th>2021-03-18</th>\n",
              "      <td>684.289978</td>\n",
              "      <td>689.229980</td>\n",
              "      <td>652.000000</td>\n",
              "      <td>653.159973</td>\n",
              "      <td>33224800</td>\n",
              "      <td>0</td>\n",
              "      <td>0.0</td>\n",
              "    </tr>\n",
              "    <tr>\n",
              "      <th>2021-03-19</th>\n",
              "      <td>646.599976</td>\n",
              "      <td>657.229980</td>\n",
              "      <td>624.619995</td>\n",
              "      <td>654.869995</td>\n",
              "      <td>42827400</td>\n",
              "      <td>0</td>\n",
              "      <td>0.0</td>\n",
              "    </tr>\n",
              "    <tr>\n",
              "      <th>2021-03-22</th>\n",
              "      <td>684.590027</td>\n",
              "      <td>699.619995</td>\n",
              "      <td>668.750000</td>\n",
              "      <td>670.000000</td>\n",
              "      <td>39512200</td>\n",
              "      <td>0</td>\n",
              "      <td>0.0</td>\n",
              "    </tr>\n",
              "    <tr>\n",
              "      <th>2021-03-23</th>\n",
              "      <td>675.770020</td>\n",
              "      <td>677.799988</td>\n",
              "      <td>657.510010</td>\n",
              "      <td>662.159973</td>\n",
              "      <td>30491900</td>\n",
              "      <td>0</td>\n",
              "      <td>0.0</td>\n",
              "    </tr>\n",
              "    <tr>\n",
              "      <th>2021-03-24</th>\n",
              "      <td>667.909973</td>\n",
              "      <td>668.020020</td>\n",
              "      <td>630.109985</td>\n",
              "      <td>630.270020</td>\n",
              "      <td>33795200</td>\n",
              "      <td>0</td>\n",
              "      <td>0.0</td>\n",
              "    </tr>\n",
              "  </tbody>\n",
              "</table>\n",
              "<p>1567 rows × 7 columns</p>\n",
              "</div>"
            ],
            "text/plain": [
              "                  Open        High  ...  Dividends  Stock Splits\n",
              "Date                                ...                         \n",
              "2015-01-02   44.574001   44.650002  ...          0           0.0\n",
              "2015-01-05   42.910000   43.299999  ...          0           0.0\n",
              "2015-01-06   42.012001   42.840000  ...          0           0.0\n",
              "2015-01-07   42.669998   42.956001  ...          0           0.0\n",
              "2015-01-08   42.562000   42.759998  ...          0           0.0\n",
              "...                ...         ...  ...        ...           ...\n",
              "2021-03-18  684.289978  689.229980  ...          0           0.0\n",
              "2021-03-19  646.599976  657.229980  ...          0           0.0\n",
              "2021-03-22  684.590027  699.619995  ...          0           0.0\n",
              "2021-03-23  675.770020  677.799988  ...          0           0.0\n",
              "2021-03-24  667.909973  668.020020  ...          0           0.0\n",
              "\n",
              "[1567 rows x 7 columns]"
            ]
          },
          "metadata": {
            "tags": []
          },
          "execution_count": 4
        }
      ]
    },
    {
      "cell_type": "code",
      "metadata": {
        "colab": {
          "base_uri": "https://localhost:8080/",
          "height": 172
        },
        "id": "P7IF8G2-NSPR",
        "outputId": "ab69b1e3-6226-4548-e61e-366d476523a3"
      },
      "source": [
        "tickerDf.tail(3)"
      ],
      "execution_count": 5,
      "outputs": [
        {
          "output_type": "execute_result",
          "data": {
            "text/html": [
              "<div>\n",
              "<style scoped>\n",
              "    .dataframe tbody tr th:only-of-type {\n",
              "        vertical-align: middle;\n",
              "    }\n",
              "\n",
              "    .dataframe tbody tr th {\n",
              "        vertical-align: top;\n",
              "    }\n",
              "\n",
              "    .dataframe thead th {\n",
              "        text-align: right;\n",
              "    }\n",
              "</style>\n",
              "<table border=\"1\" class=\"dataframe\">\n",
              "  <thead>\n",
              "    <tr style=\"text-align: right;\">\n",
              "      <th></th>\n",
              "      <th>Open</th>\n",
              "      <th>High</th>\n",
              "      <th>Low</th>\n",
              "      <th>Close</th>\n",
              "      <th>Volume</th>\n",
              "      <th>Dividends</th>\n",
              "      <th>Stock Splits</th>\n",
              "    </tr>\n",
              "    <tr>\n",
              "      <th>Date</th>\n",
              "      <th></th>\n",
              "      <th></th>\n",
              "      <th></th>\n",
              "      <th></th>\n",
              "      <th></th>\n",
              "      <th></th>\n",
              "      <th></th>\n",
              "    </tr>\n",
              "  </thead>\n",
              "  <tbody>\n",
              "    <tr>\n",
              "      <th>2021-03-22</th>\n",
              "      <td>684.590027</td>\n",
              "      <td>699.619995</td>\n",
              "      <td>668.750000</td>\n",
              "      <td>670.000000</td>\n",
              "      <td>39512200</td>\n",
              "      <td>0</td>\n",
              "      <td>0.0</td>\n",
              "    </tr>\n",
              "    <tr>\n",
              "      <th>2021-03-23</th>\n",
              "      <td>675.770020</td>\n",
              "      <td>677.799988</td>\n",
              "      <td>657.510010</td>\n",
              "      <td>662.159973</td>\n",
              "      <td>30491900</td>\n",
              "      <td>0</td>\n",
              "      <td>0.0</td>\n",
              "    </tr>\n",
              "    <tr>\n",
              "      <th>2021-03-24</th>\n",
              "      <td>667.909973</td>\n",
              "      <td>668.020020</td>\n",
              "      <td>630.109985</td>\n",
              "      <td>630.270020</td>\n",
              "      <td>33795200</td>\n",
              "      <td>0</td>\n",
              "      <td>0.0</td>\n",
              "    </tr>\n",
              "  </tbody>\n",
              "</table>\n",
              "</div>"
            ],
            "text/plain": [
              "                  Open        High  ...  Dividends  Stock Splits\n",
              "Date                                ...                         \n",
              "2021-03-22  684.590027  699.619995  ...          0           0.0\n",
              "2021-03-23  675.770020  677.799988  ...          0           0.0\n",
              "2021-03-24  667.909973  668.020020  ...          0           0.0\n",
              "\n",
              "[3 rows x 7 columns]"
            ]
          },
          "metadata": {
            "tags": []
          },
          "execution_count": 5
        }
      ]
    },
    {
      "cell_type": "code",
      "metadata": {
        "colab": {
          "base_uri": "https://localhost:8080/",
          "height": 384
        },
        "id": "qgUVByGlNnC1",
        "outputId": "09d0132a-063e-4ef7-d15b-aa5cd45d42ca"
      },
      "source": [
        "tickerDf['Close'].plot(figsize=(16,6))"
      ],
      "execution_count": 6,
      "outputs": [
        {
          "output_type": "execute_result",
          "data": {
            "text/plain": [
              "<matplotlib.axes._subplots.AxesSubplot at 0x7ff04505a2d0>"
            ]
          },
          "metadata": {
            "tags": []
          },
          "execution_count": 6
        },
        {
          "output_type": "display_data",
          "data": {
            "image/png": "[encoded data removed]",
            "text/plain": [
              "<Figure size 1152x432 with 1 Axes>"
            ]
          },
          "metadata": {
            "tags": [],
            "needs_background": "light"
          }
        }
      ]
    },
    {
      "cell_type": "code",
      "metadata": {
        "colab": {
          "base_uri": "https://localhost:8080/",
          "height": 696
        },
        "id": "rg98SVVdNrw-",
        "outputId": "e58bbcc4-3d58-47c6-bc15-8fbfd810517d"
      },
      "source": [
        "tickerDf.rolling(7).mean().head(20)"
      ],
      "execution_count": 7,
      "outputs": [
        {
          "output_type": "execute_result",
          "data": {
            "text/html": [
              "<div>\n",
              "<style scoped>\n",
              "    .dataframe tbody tr th:only-of-type {\n",
              "        vertical-align: middle;\n",
              "    }\n",
              "\n",
              "    .dataframe tbody tr th {\n",
              "        vertical-align: top;\n",
              "    }\n",
              "\n",
              "    .dataframe thead th {\n",
              "        text-align: right;\n",
              "    }\n",
              "</style>\n",
              "<table border=\"1\" class=\"dataframe\">\n",
              "  <thead>\n",
              "    <tr style=\"text-align: right;\">\n",
              "      <th></th>\n",
              "      <th>Open</th>\n",
              "      <th>High</th>\n",
              "      <th>Low</th>\n",
              "      <th>Close</th>\n",
              "      <th>Volume</th>\n",
              "      <th>Dividends</th>\n",
              "      <th>Stock Splits</th>\n",
              "    </tr>\n",
              "    <tr>\n",
              "      <th>Date</th>\n",
              "      <th></th>\n",
              "      <th></th>\n",
              "      <th></th>\n",
              "      <th></th>\n",
              "      <th></th>\n",
              "      <th></th>\n",
              "      <th></th>\n",
              "    </tr>\n",
              "  </thead>\n",
              "  <tbody>\n",
              "    <tr>\n",
              "      <th>2015-01-02</th>\n",
              "      <td>NaN</td>\n",
              "      <td>NaN</td>\n",
              "      <td>NaN</td>\n",
              "      <td>NaN</td>\n",
              "      <td>NaN</td>\n",
              "      <td>NaN</td>\n",
              "      <td>NaN</td>\n",
              "    </tr>\n",
              "    <tr>\n",
              "      <th>2015-01-05</th>\n",
              "      <td>NaN</td>\n",
              "      <td>NaN</td>\n",
              "      <td>NaN</td>\n",
              "      <td>NaN</td>\n",
              "      <td>NaN</td>\n",
              "      <td>NaN</td>\n",
              "      <td>NaN</td>\n",
              "    </tr>\n",
              "    <tr>\n",
              "      <th>2015-01-06</th>\n",
              "      <td>NaN</td>\n",
              "      <td>NaN</td>\n",
              "      <td>NaN</td>\n",
              "      <td>NaN</td>\n",
              "      <td>NaN</td>\n",
              "      <td>NaN</td>\n",
              "      <td>NaN</td>\n",
              "    </tr>\n",
              "    <tr>\n",
              "      <th>2015-01-07</th>\n",
              "      <td>NaN</td>\n",
              "      <td>NaN</td>\n",
              "      <td>NaN</td>\n",
              "      <td>NaN</td>\n",
              "      <td>NaN</td>\n",
              "      <td>NaN</td>\n",
              "      <td>NaN</td>\n",
              "    </tr>\n",
              "    <tr>\n",
              "      <th>2015-01-08</th>\n",
              "      <td>NaN</td>\n",
              "      <td>NaN</td>\n",
              "      <td>NaN</td>\n",
              "      <td>NaN</td>\n",
              "      <td>NaN</td>\n",
              "      <td>NaN</td>\n",
              "      <td>NaN</td>\n",
              "    </tr>\n",
              "    <tr>\n",
              "      <th>2015-01-09</th>\n",
              "      <td>NaN</td>\n",
              "      <td>NaN</td>\n",
              "      <td>NaN</td>\n",
              "      <td>NaN</td>\n",
              "      <td>NaN</td>\n",
              "      <td>NaN</td>\n",
              "      <td>NaN</td>\n",
              "    </tr>\n",
              "    <tr>\n",
              "      <th>2015-01-12</th>\n",
              "      <td>42.446000</td>\n",
              "      <td>42.770857</td>\n",
              "      <td>41.389428</td>\n",
              "      <td>42.032000</td>\n",
              "      <td>2.387450e+07</td>\n",
              "      <td>0.0</td>\n",
              "      <td>0.0</td>\n",
              "    </tr>\n",
              "    <tr>\n",
              "      <th>2015-01-13</th>\n",
              "      <td>41.887429</td>\n",
              "      <td>42.324000</td>\n",
              "      <td>41.036571</td>\n",
              "      <td>41.601715</td>\n",
              "      <td>2.366943e+07</td>\n",
              "      <td>0.0</td>\n",
              "      <td>0.0</td>\n",
              "    </tr>\n",
              "    <tr>\n",
              "      <th>2015-01-14</th>\n",
              "      <td>41.066857</td>\n",
              "      <td>41.715428</td>\n",
              "      <td>40.403428</td>\n",
              "      <td>41.104571</td>\n",
              "      <td>2.808614e+07</td>\n",
              "      <td>0.0</td>\n",
              "      <td>0.0</td>\n",
              "    </tr>\n",
              "    <tr>\n",
              "      <th>2015-01-15</th>\n",
              "      <td>40.622000</td>\n",
              "      <td>41.188286</td>\n",
              "      <td>39.997428</td>\n",
              "      <td>40.550000</td>\n",
              "      <td>2.733943e+07</td>\n",
              "      <td>0.0</td>\n",
              "      <td>0.0</td>\n",
              "    </tr>\n",
              "    <tr>\n",
              "      <th>2015-01-16</th>\n",
              "      <td>39.974857</td>\n",
              "      <td>40.608571</td>\n",
              "      <td>39.422285</td>\n",
              "      <td>40.039143</td>\n",
              "      <td>2.779286e+07</td>\n",
              "      <td>0.0</td>\n",
              "      <td>0.0</td>\n",
              "    </tr>\n",
              "    <tr>\n",
              "      <th>2015-01-20</th>\n",
              "      <td>39.433714</td>\n",
              "      <td>40.046286</td>\n",
              "      <td>38.766000</td>\n",
              "      <td>39.505143</td>\n",
              "      <td>2.855050e+07</td>\n",
              "      <td>0.0</td>\n",
              "      <td>0.0</td>\n",
              "    </tr>\n",
              "    <tr>\n",
              "      <th>2015-01-21</th>\n",
              "      <td>38.880286</td>\n",
              "      <td>39.723429</td>\n",
              "      <td>38.324571</td>\n",
              "      <td>39.216857</td>\n",
              "      <td>2.818243e+07</td>\n",
              "      <td>0.0</td>\n",
              "      <td>0.0</td>\n",
              "    </tr>\n",
              "    <tr>\n",
              "      <th>2015-01-22</th>\n",
              "      <td>38.707429</td>\n",
              "      <td>39.688286</td>\n",
              "      <td>38.208857</td>\n",
              "      <td>39.200000</td>\n",
              "      <td>2.687286e+07</td>\n",
              "      <td>0.0</td>\n",
              "      <td>0.0</td>\n",
              "    </tr>\n",
              "    <tr>\n",
              "      <th>2015-01-23</th>\n",
              "      <td>38.620857</td>\n",
              "      <td>39.570857</td>\n",
              "      <td>38.135143</td>\n",
              "      <td>39.115428</td>\n",
              "      <td>2.613093e+07</td>\n",
              "      <td>0.0</td>\n",
              "      <td>0.0</td>\n",
              "    </tr>\n",
              "    <tr>\n",
              "      <th>2015-01-26</th>\n",
              "      <td>39.078000</td>\n",
              "      <td>39.954286</td>\n",
              "      <td>38.593715</td>\n",
              "      <td>39.511429</td>\n",
              "      <td>2.018993e+07</td>\n",
              "      <td>0.0</td>\n",
              "      <td>0.0</td>\n",
              "    </tr>\n",
              "    <tr>\n",
              "      <th>2015-01-27</th>\n",
              "      <td>39.361714</td>\n",
              "      <td>40.305143</td>\n",
              "      <td>38.973715</td>\n",
              "      <td>39.914571</td>\n",
              "      <td>1.845029e+07</td>\n",
              "      <td>0.0</td>\n",
              "      <td>0.0</td>\n",
              "    </tr>\n",
              "    <tr>\n",
              "      <th>2015-01-28</th>\n",
              "      <td>39.802000</td>\n",
              "      <td>40.644571</td>\n",
              "      <td>39.224286</td>\n",
              "      <td>40.094572</td>\n",
              "      <td>1.812629e+07</td>\n",
              "      <td>0.0</td>\n",
              "      <td>0.0</td>\n",
              "    </tr>\n",
              "    <tr>\n",
              "      <th>2015-01-29</th>\n",
              "      <td>40.007714</td>\n",
              "      <td>40.983428</td>\n",
              "      <td>39.494571</td>\n",
              "      <td>40.473715</td>\n",
              "      <td>1.744407e+07</td>\n",
              "      <td>0.0</td>\n",
              "      <td>0.0</td>\n",
              "    </tr>\n",
              "    <tr>\n",
              "      <th>2015-01-30</th>\n",
              "      <td>40.419429</td>\n",
              "      <td>41.234571</td>\n",
              "      <td>39.879999</td>\n",
              "      <td>40.674572</td>\n",
              "      <td>1.662550e+07</td>\n",
              "      <td>0.0</td>\n",
              "      <td>0.0</td>\n",
              "    </tr>\n",
              "  </tbody>\n",
              "</table>\n",
              "</div>"
            ],
            "text/plain": [
              "                 Open       High  ...  Dividends  Stock Splits\n",
              "Date                              ...                         \n",
              "2015-01-02        NaN        NaN  ...        NaN           NaN\n",
              "2015-01-05        NaN        NaN  ...        NaN           NaN\n",
              "2015-01-06        NaN        NaN  ...        NaN           NaN\n",
              "2015-01-07        NaN        NaN  ...        NaN           NaN\n",
              "2015-01-08        NaN        NaN  ...        NaN           NaN\n",
              "2015-01-09        NaN        NaN  ...        NaN           NaN\n",
              "2015-01-12  42.446000  42.770857  ...        0.0           0.0\n",
              "2015-01-13  41.887429  42.324000  ...        0.0           0.0\n",
              "2015-01-14  41.066857  41.715428  ...        0.0           0.0\n",
              "2015-01-15  40.622000  41.188286  ...        0.0           0.0\n",
              "2015-01-16  39.974857  40.608571  ...        0.0           0.0\n",
              "2015-01-20  39.433714  40.046286  ...        0.0           0.0\n",
              "2015-01-21  38.880286  39.723429  ...        0.0           0.0\n",
              "2015-01-22  38.707429  39.688286  ...        0.0           0.0\n",
              "2015-01-23  38.620857  39.570857  ...        0.0           0.0\n",
              "2015-01-26  39.078000  39.954286  ...        0.0           0.0\n",
              "2015-01-27  39.361714  40.305143  ...        0.0           0.0\n",
              "2015-01-28  39.802000  40.644571  ...        0.0           0.0\n",
              "2015-01-29  40.007714  40.983428  ...        0.0           0.0\n",
              "2015-01-30  40.419429  41.234571  ...        0.0           0.0\n",
              "\n",
              "[20 rows x 7 columns]"
            ]
          },
          "metadata": {
            "tags": []
          },
          "execution_count": 7
        }
      ]
    },
    {
      "cell_type": "code",
      "metadata": {
        "colab": {
          "base_uri": "https://localhost:8080/",
          "height": 384
        },
        "id": "zXkrT25PNnMD",
        "outputId": "099844cd-0540-446e-a8f7-6a7344235057"
      },
      "source": [
        "tickerDf['Close'].plot(figsize=(16,6))\n",
        "tickerDf.rolling(window=30).mean()['Close'].plot()"
      ],
      "execution_count": 8,
      "outputs": [
        {
          "output_type": "execute_result",
          "data": {
            "text/plain": [
              "<matplotlib.axes._subplots.AxesSubplot at 0x7ff03e25b890>"
            ]
          },
          "metadata": {
            "tags": []
          },
          "execution_count": 8
        },
        {
          "output_type": "display_data",
          "data": {
            "image/png": "[encoded data removed]",
            "text/plain": [
              "<Figure size 1152x432 with 1 Axes>"
            ]
          },
          "metadata": {
            "tags": [],
            "needs_background": "light"
          }
        }
      ]
    },
    {
      "cell_type": "code",
      "metadata": {
        "colab": {
          "base_uri": "https://localhost:8080/"
        },
        "id": "Xb_1cmguN-7e",
        "outputId": "a64662ad-3b28-4269-a7af-b6cdccde58fe"
      },
      "source": [
        "df1=tickerDf.reset_index()['Close']\n",
        "\n",
        "df1"
      ],
      "execution_count": 9,
      "outputs": [
        {
          "output_type": "execute_result",
          "data": {
            "text/plain": [
              "0        43.862000\n",
              "1        42.018002\n",
              "2        42.256001\n",
              "3        42.189999\n",
              "4        42.124001\n",
              "           ...    \n",
              "1562    653.159973\n",
              "1563    654.869995\n",
              "1564    670.000000\n",
              "1565    662.159973\n",
              "1566    630.270020\n",
              "Name: Close, Length: 1567, dtype: float64"
            ]
          },
          "metadata": {
            "tags": []
          },
          "execution_count": 9
        }
      ]
    },
    {
      "cell_type": "code",
      "metadata": {
        "colab": {
          "base_uri": "https://localhost:8080/"
        },
        "id": "XtXkmZUkOHZl",
        "outputId": "166592fd-e854-4734-8ce8-95459a88356f"
      },
      "source": [
        "\n",
        "from sklearn.preprocessing import MinMaxScaler\n",
        "scaler=MinMaxScaler(feature_range=(0,1))\n",
        "df1=scaler.fit_transform(np.array(df1).reshape(-1,1))\n",
        "\n",
        "print(df1)\n",
        "print(df1.shape)\n",
        "df1.ndim"
      ],
      "execution_count": 10,
      "outputs": [
        {
          "output_type": "stream",
          "text": [
            "[[0.0177069 ]\n",
            " [0.01554856]\n",
            " [0.01582713]\n",
            " ...\n",
            " [0.75058404]\n",
            " [0.74140751]\n",
            " [0.7040812 ]]\n",
            "(1567, 1)\n"
          ],
          "name": "stdout"
        },
        {
          "output_type": "execute_result",
          "data": {
            "text/plain": [
              "2"
            ]
          },
          "metadata": {
            "tags": []
          },
          "execution_count": 10
        }
      ]
    },
    {
      "cell_type": "code",
      "metadata": {
        "colab": {
          "base_uri": "https://localhost:8080/"
        },
        "id": "9Uni2Kc9OHiF",
        "outputId": "f7bf0476-8d66-447a-8684-b2211f6297e3"
      },
      "source": [
        "features_set = []\n",
        "labels = []\n",
        "for i in range(60, len(df1)):\n",
        "    features_set.append(df1[i-60:i, 0])\n",
        "    labels.append(df1[i, 0])\n",
        "    if i<=61:\n",
        "        print(features_set)\n",
        "        print(labels)"
      ],
      "execution_count": 11,
      "outputs": [
        {
          "output_type": "stream",
          "text": [
            "[array([0.0177069 , 0.01554856, 0.01582713, 0.01574987, 0.01567262,\n",
            "       0.01474561, 0.01370389, 0.01418144, 0.01147531, 0.01128335,\n",
            "       0.01156426, 0.0112974 , 0.0123836 , 0.01356578, 0.01348852,\n",
            "       0.01471986, 0.01458642, 0.01303906, 0.01440383, 0.01402928,\n",
            "       0.01574753, 0.01748452, 0.01752899, 0.01810019, 0.01725042,\n",
            "       0.01727851, 0.01699994, 0.01618295, 0.01386073, 0.01406908,\n",
            "       0.01420485, 0.0142306 , 0.01592779, 0.0171919 , 0.01490479,\n",
            "       0.01414867, 0.01406673, 0.01486968, 0.01396842, 0.01256151,\n",
            "       0.01308354, 0.01375773, 0.01333402, 0.01175388, 0.0110516 ,\n",
            "       0.01092051, 0.01172111, 0.01109608, 0.01053659, 0.01217993,\n",
            "       0.01195286, 0.01335275, 0.01216823, 0.01273708, 0.01309992,\n",
            "       0.01358919, 0.0118522 , 0.01094158, 0.00967512, 0.01097903])]\n",
            "[0.010557662231771736]\n",
            "[array([0.0177069 , 0.01554856, 0.01582713, 0.01574987, 0.01567262,\n",
            "       0.01474561, 0.01370389, 0.01418144, 0.01147531, 0.01128335,\n",
            "       0.01156426, 0.0112974 , 0.0123836 , 0.01356578, 0.01348852,\n",
            "       0.01471986, 0.01458642, 0.01303906, 0.01440383, 0.01402928,\n",
            "       0.01574753, 0.01748452, 0.01752899, 0.01810019, 0.01725042,\n",
            "       0.01727851, 0.01699994, 0.01618295, 0.01386073, 0.01406908,\n",
            "       0.01420485, 0.0142306 , 0.01592779, 0.0171919 , 0.01490479,\n",
            "       0.01414867, 0.01406673, 0.01486968, 0.01396842, 0.01256151,\n",
            "       0.01308354, 0.01375773, 0.01333402, 0.01175388, 0.0110516 ,\n",
            "       0.01092051, 0.01172111, 0.01109608, 0.01053659, 0.01217993,\n",
            "       0.01195286, 0.01335275, 0.01216823, 0.01273708, 0.01309992,\n",
            "       0.01358919, 0.0118522 , 0.01094158, 0.00967512, 0.01097903]), array([0.01554856, 0.01582713, 0.01574987, 0.01567262, 0.01474561,\n",
            "       0.01370389, 0.01418144, 0.01147531, 0.01128335, 0.01156426,\n",
            "       0.0112974 , 0.0123836 , 0.01356578, 0.01348852, 0.01471986,\n",
            "       0.01458642, 0.01303906, 0.01440383, 0.01402928, 0.01574753,\n",
            "       0.01748452, 0.01752899, 0.01810019, 0.01725042, 0.01727851,\n",
            "       0.01699994, 0.01618295, 0.01386073, 0.01406908, 0.01420485,\n",
            "       0.0142306 , 0.01592779, 0.0171919 , 0.01490479, 0.01414867,\n",
            "       0.01406673, 0.01486968, 0.01396842, 0.01256151, 0.01308354,\n",
            "       0.01375773, 0.01333402, 0.01175388, 0.0110516 , 0.01092051,\n",
            "       0.01172111, 0.01109608, 0.01053659, 0.01217993, 0.01195286,\n",
            "       0.01335275, 0.01216823, 0.01273708, 0.01309992, 0.01358919,\n",
            "       0.0118522 , 0.01094158, 0.00967512, 0.01097903, 0.01055766])]\n",
            "[0.010557662231771736, 0.010281430715389464]\n"
          ],
          "name": "stdout"
        }
      ]
    },
    {
      "cell_type": "code",
      "metadata": {
        "id": "-RTK1AZFOM1a"
      },
      "source": [
        "features_set, labels = np.array(features_set), np.array(labels)"
      ],
      "execution_count": 12,
      "outputs": []
    },
    {
      "cell_type": "code",
      "metadata": {
        "id": "XnWAfhSWOPqd"
      },
      "source": [
        "features_set = np.reshape(features_set, (features_set.shape[0], features_set.shape[1], 1))"
      ],
      "execution_count": 13,
      "outputs": []
    },
    {
      "cell_type": "code",
      "metadata": {
        "id": "w-NKF19POPyz"
      },
      "source": [
        "from keras.models import Sequential\n",
        "from keras.layers import Dense\n",
        "from keras.layers import LSTM\n",
        "from keras.layers import Dropout"
      ],
      "execution_count": 14,
      "outputs": []
    },
    {
      "cell_type": "code",
      "metadata": {
        "id": "fNvTcI2wOV_P"
      },
      "source": [
        "model = Sequential()"
      ],
      "execution_count": 15,
      "outputs": []
    },
    {
      "cell_type": "code",
      "metadata": {
        "id": "_mKhm2LyOY5t"
      },
      "source": [
        "\n",
        "model.add(LSTM(units=50, return_sequences=True, input_shape=(features_set.shape[1], 1)))"
      ],
      "execution_count": 16,
      "outputs": []
    },
    {
      "cell_type": "code",
      "metadata": {
        "id": "YLztj5h8OblD"
      },
      "source": [
        "model.add(Dropout(0.2))"
      ],
      "execution_count": 17,
      "outputs": []
    },
    {
      "cell_type": "code",
      "metadata": {
        "id": "dT2ldjVwOeLD"
      },
      "source": [
        "model.add(LSTM(units=50, return_sequences=True))\n",
        "model.add(Dropout(0.2))\n",
        "\n",
        "model.add(LSTM(units=50, return_sequences=True))\n",
        "model.add(Dropout(0.2))\n",
        "\n",
        "model.add(LSTM(units=50))\n",
        "model.add(Dropout(0.2))"
      ],
      "execution_count": 18,
      "outputs": []
    },
    {
      "cell_type": "code",
      "metadata": {
        "id": "39HnfTXvOkhR"
      },
      "source": [
        "model.add(Dense(units = 1))"
      ],
      "execution_count": 19,
      "outputs": []
    },
    {
      "cell_type": "code",
      "metadata": {
        "id": "E0eXnynQOnT0"
      },
      "source": [
        "model.compile(optimizer = 'adam', loss = 'mean_squared_error')"
      ],
      "execution_count": 20,
      "outputs": []
    },
    {
      "cell_type": "code",
      "metadata": {
        "colab": {
          "base_uri": "https://localhost:8080/"
        },
        "id": "IlT8US98OqWW",
        "outputId": "b8627771-3457-4777-e4ef-17b56f81ca67"
      },
      "source": [
        "model.summary()"
      ],
      "execution_count": 21,
      "outputs": [
        {
          "output_type": "stream",
          "text": [
            "Model: \"sequential\"\n",
            "_________________________________________________________________\n",
            "Layer (type)                 Output Shape              Param #   \n",
            "=================================================================\n",
            "lstm (LSTM)                  (None, 60, 50)            10400     \n",
            "_________________________________________________________________\n",
            "dropout (Dropout)            (None, 60, 50)            0         \n",
            "_________________________________________________________________\n",
            "lstm_1 (LSTM)                (None, 60, 50)            20200     \n",
            "_________________________________________________________________\n",
            "dropout_1 (Dropout)          (None, 60, 50)            0         \n",
            "_________________________________________________________________\n",
            "lstm_2 (LSTM)                (None, 60, 50)            20200     \n",
            "_________________________________________________________________\n",
            "dropout_2 (Dropout)          (None, 60, 50)            0         \n",
            "_________________________________________________________________\n",
            "lstm_3 (LSTM)                (None, 50)                20200     \n",
            "_________________________________________________________________\n",
            "dropout_3 (Dropout)          (None, 50)                0         \n",
            "_________________________________________________________________\n",
            "dense (Dense)                (None, 1)                 51        \n",
            "=================================================================\n",
            "Total params: 71,051\n",
            "Trainable params: 71,051\n",
            "Non-trainable params: 0\n",
            "_________________________________________________________________\n"
          ],
          "name": "stdout"
        }
      ]
    },
    {
      "cell_type": "code",
      "metadata": {
        "colab": {
          "base_uri": "https://localhost:8080/"
        },
        "id": "KuT-jCdBOsgY",
        "outputId": "0c06371e-0da8-4a01-b90b-1b83c2c99ec5"
      },
      "source": [
        "\n",
        "model.fit(features_set, labels, epochs = 100, batch_size = 32)"
      ],
      "execution_count": 22,
      "outputs": [
        {
          "output_type": "stream",
          "text": [
            "Epoch 1/100\n",
            "48/48 [==============================] - 34s 13ms/step - loss: 0.0219\n",
            "Epoch 2/100\n",
            "48/48 [==============================] - 1s 13ms/step - loss: 0.0034\n",
            "Epoch 3/100\n",
            "48/48 [==============================] - 1s 13ms/step - loss: 0.0018\n",
            "Epoch 4/100\n",
            "48/48 [==============================] - 1s 13ms/step - loss: 0.0021\n",
            "Epoch 5/100\n",
            "48/48 [==============================] - 1s 12ms/step - loss: 0.0021\n",
            "Epoch 6/100\n",
            "48/48 [==============================] - 1s 13ms/step - loss: 0.0016\n",
            "Epoch 7/100\n",
            "48/48 [==============================] - 1s 13ms/step - loss: 0.0014\n",
            "Epoch 8/100\n",
            "48/48 [==============================] - 1s 13ms/step - loss: 0.0015\n",
            "Epoch 9/100\n",
            "48/48 [==============================] - 1s 13ms/step - loss: 0.0019\n",
            "Epoch 10/100\n",
            "48/48 [==============================] - 1s 13ms/step - loss: 0.0017\n",
            "Epoch 11/100\n",
            "48/48 [==============================] - 1s 13ms/step - loss: 0.0017\n",
            "Epoch 12/100\n",
            "48/48 [==============================] - 1s 13ms/step - loss: 0.0034\n",
            "Epoch 13/100\n",
            "48/48 [==============================] - 1s 13ms/step - loss: 0.0015\n",
            "Epoch 14/100\n",
            "48/48 [==============================] - 1s 13ms/step - loss: 9.2614e-04\n",
            "Epoch 15/100\n",
            "48/48 [==============================] - 1s 13ms/step - loss: 0.0013\n",
            "Epoch 16/100\n",
            "48/48 [==============================] - 1s 13ms/step - loss: 9.1788e-04\n",
            "Epoch 17/100\n",
            "48/48 [==============================] - 1s 13ms/step - loss: 0.0012\n",
            "Epoch 18/100\n",
            "48/48 [==============================] - 1s 13ms/step - loss: 0.0014\n",
            "Epoch 19/100\n",
            "48/48 [==============================] - 1s 13ms/step - loss: 0.0011\n",
            "Epoch 20/100\n",
            "48/48 [==============================] - 1s 13ms/step - loss: 0.0012\n",
            "Epoch 21/100\n",
            "48/48 [==============================] - 1s 13ms/step - loss: 9.7042e-04\n",
            "Epoch 22/100\n",
            "48/48 [==============================] - 1s 13ms/step - loss: 0.0013\n",
            "Epoch 23/100\n",
            "48/48 [==============================] - 1s 13ms/step - loss: 8.0478e-04\n",
            "Epoch 24/100\n",
            "48/48 [==============================] - 1s 13ms/step - loss: 0.0011\n",
            "Epoch 25/100\n",
            "48/48 [==============================] - 1s 13ms/step - loss: 0.0010\n",
            "Epoch 26/100\n",
            "48/48 [==============================] - 1s 12ms/step - loss: 9.8901e-04\n",
            "Epoch 27/100\n",
            "48/48 [==============================] - 1s 13ms/step - loss: 8.6081e-04\n",
            "Epoch 28/100\n",
            "48/48 [==============================] - 1s 13ms/step - loss: 8.2326e-04\n",
            "Epoch 29/100\n",
            "48/48 [==============================] - 1s 13ms/step - loss: 8.0807e-04\n",
            "Epoch 30/100\n",
            "48/48 [==============================] - 1s 13ms/step - loss: 9.7400e-04\n",
            "Epoch 31/100\n",
            "48/48 [==============================] - 1s 13ms/step - loss: 0.0012\n",
            "Epoch 32/100\n",
            "48/48 [==============================] - 1s 13ms/step - loss: 7.9815e-04\n",
            "Epoch 33/100\n",
            "48/48 [==============================] - 1s 13ms/step - loss: 9.5517e-04\n",
            "Epoch 34/100\n",
            "48/48 [==============================] - 1s 13ms/step - loss: 0.0010\n",
            "Epoch 35/100\n",
            "48/48 [==============================] - 1s 13ms/step - loss: 8.3622e-04\n",
            "Epoch 36/100\n",
            "48/48 [==============================] - 1s 13ms/step - loss: 8.0235e-04\n",
            "Epoch 37/100\n",
            "48/48 [==============================] - 1s 13ms/step - loss: 8.4132e-04\n",
            "Epoch 38/100\n",
            "48/48 [==============================] - 1s 13ms/step - loss: 0.0016\n",
            "Epoch 39/100\n",
            "48/48 [==============================] - 1s 13ms/step - loss: 8.9739e-04\n",
            "Epoch 40/100\n",
            "48/48 [==============================] - 1s 13ms/step - loss: 0.0012\n",
            "Epoch 41/100\n",
            "48/48 [==============================] - 1s 13ms/step - loss: 7.0887e-04\n",
            "Epoch 42/100\n",
            "48/48 [==============================] - 1s 13ms/step - loss: 0.0013\n",
            "Epoch 43/100\n",
            "48/48 [==============================] - 1s 13ms/step - loss: 0.0010\n",
            "Epoch 44/100\n",
            "48/48 [==============================] - 1s 13ms/step - loss: 0.0012\n",
            "Epoch 45/100\n",
            "48/48 [==============================] - 1s 13ms/step - loss: 9.0854e-04\n",
            "Epoch 46/100\n",
            "48/48 [==============================] - 1s 13ms/step - loss: 8.6387e-04\n",
            "Epoch 47/100\n",
            "48/48 [==============================] - 1s 13ms/step - loss: 8.7207e-04\n",
            "Epoch 48/100\n",
            "48/48 [==============================] - 1s 13ms/step - loss: 9.6574e-04\n",
            "Epoch 49/100\n",
            "48/48 [==============================] - 1s 13ms/step - loss: 9.1176e-04\n",
            "Epoch 50/100\n",
            "48/48 [==============================] - 1s 13ms/step - loss: 9.2923e-04\n",
            "Epoch 51/100\n",
            "48/48 [==============================] - 1s 13ms/step - loss: 6.3574e-04\n",
            "Epoch 52/100\n",
            "48/48 [==============================] - 1s 13ms/step - loss: 6.5238e-04\n",
            "Epoch 53/100\n",
            "48/48 [==============================] - 1s 13ms/step - loss: 6.8357e-04\n",
            "Epoch 54/100\n",
            "48/48 [==============================] - 1s 13ms/step - loss: 7.0632e-04\n",
            "Epoch 55/100\n",
            "48/48 [==============================] - 1s 13ms/step - loss: 5.9470e-04\n",
            "Epoch 56/100\n",
            "48/48 [==============================] - 1s 14ms/step - loss: 7.3583e-04\n",
            "Epoch 57/100\n",
            "48/48 [==============================] - 1s 13ms/step - loss: 7.8659e-04\n",
            "Epoch 58/100\n",
            "48/48 [==============================] - 1s 13ms/step - loss: 7.2961e-04\n",
            "Epoch 59/100\n",
            "48/48 [==============================] - 1s 13ms/step - loss: 0.0011\n",
            "Epoch 60/100\n",
            "48/48 [==============================] - 1s 13ms/step - loss: 7.3396e-04\n",
            "Epoch 61/100\n",
            "48/48 [==============================] - 1s 13ms/step - loss: 7.3557e-04\n",
            "Epoch 62/100\n",
            "48/48 [==============================] - 1s 13ms/step - loss: 7.6221e-04\n",
            "Epoch 63/100\n",
            "48/48 [==============================] - 1s 13ms/step - loss: 0.0013\n",
            "Epoch 64/100\n",
            "48/48 [==============================] - 1s 13ms/step - loss: 6.5604e-04\n",
            "Epoch 65/100\n",
            "48/48 [==============================] - 1s 13ms/step - loss: 7.9646e-04\n",
            "Epoch 66/100\n",
            "48/48 [==============================] - 1s 13ms/step - loss: 0.0021\n",
            "Epoch 67/100\n",
            "48/48 [==============================] - 1s 13ms/step - loss: 0.0012\n",
            "Epoch 68/100\n",
            "48/48 [==============================] - 1s 13ms/step - loss: 8.6618e-04\n",
            "Epoch 69/100\n",
            "48/48 [==============================] - 1s 13ms/step - loss: 6.8669e-04\n",
            "Epoch 70/100\n",
            "48/48 [==============================] - 1s 13ms/step - loss: 7.7751e-04\n",
            "Epoch 71/100\n",
            "48/48 [==============================] - 1s 13ms/step - loss: 6.0985e-04\n",
            "Epoch 72/100\n",
            "48/48 [==============================] - 1s 13ms/step - loss: 7.4371e-04\n",
            "Epoch 73/100\n",
            "48/48 [==============================] - 1s 13ms/step - loss: 6.8577e-04\n",
            "Epoch 74/100\n",
            "48/48 [==============================] - 1s 13ms/step - loss: 6.4353e-04\n",
            "Epoch 75/100\n",
            "48/48 [==============================] - 1s 13ms/step - loss: 6.5598e-04\n",
            "Epoch 76/100\n",
            "48/48 [==============================] - 1s 13ms/step - loss: 7.1571e-04\n",
            "Epoch 77/100\n",
            "48/48 [==============================] - 1s 13ms/step - loss: 7.7719e-04\n",
            "Epoch 78/100\n",
            "48/48 [==============================] - 1s 13ms/step - loss: 5.6882e-04\n",
            "Epoch 79/100\n",
            "48/48 [==============================] - 1s 13ms/step - loss: 8.7573e-04\n",
            "Epoch 80/100\n",
            "48/48 [==============================] - 1s 13ms/step - loss: 9.2783e-04\n",
            "Epoch 81/100\n",
            "48/48 [==============================] - 1s 13ms/step - loss: 7.6092e-04\n",
            "Epoch 82/100\n",
            "48/48 [==============================] - 1s 13ms/step - loss: 6.8429e-04\n",
            "Epoch 83/100\n",
            "48/48 [==============================] - 1s 13ms/step - loss: 6.4760e-04\n",
            "Epoch 84/100\n",
            "48/48 [==============================] - 1s 13ms/step - loss: 6.6296e-04\n",
            "Epoch 85/100\n",
            "48/48 [==============================] - 1s 13ms/step - loss: 8.3675e-04\n",
            "Epoch 86/100\n",
            "48/48 [==============================] - 1s 13ms/step - loss: 5.5406e-04\n",
            "Epoch 87/100\n",
            "48/48 [==============================] - 1s 13ms/step - loss: 6.1950e-04\n",
            "Epoch 88/100\n",
            "48/48 [==============================] - 1s 13ms/step - loss: 8.0815e-04\n",
            "Epoch 89/100\n",
            "48/48 [==============================] - 1s 13ms/step - loss: 8.6052e-04\n",
            "Epoch 90/100\n",
            "48/48 [==============================] - 1s 13ms/step - loss: 7.1592e-04\n",
            "Epoch 91/100\n",
            "48/48 [==============================] - 1s 13ms/step - loss: 6.9776e-04\n",
            "Epoch 92/100\n",
            "48/48 [==============================] - 1s 13ms/step - loss: 6.9550e-04\n",
            "Epoch 93/100\n",
            "48/48 [==============================] - 1s 13ms/step - loss: 5.1301e-04\n",
            "Epoch 94/100\n",
            "48/48 [==============================] - 1s 13ms/step - loss: 9.6352e-04\n",
            "Epoch 95/100\n",
            "48/48 [==============================] - 1s 13ms/step - loss: 5.5436e-04\n",
            "Epoch 96/100\n",
            "48/48 [==============================] - 1s 13ms/step - loss: 6.7150e-04\n",
            "Epoch 97/100\n",
            "48/48 [==============================] - 1s 13ms/step - loss: 5.0277e-04\n",
            "Epoch 98/100\n",
            "48/48 [==============================] - 1s 13ms/step - loss: 5.7441e-04\n",
            "Epoch 99/100\n",
            "48/48 [==============================] - 1s 13ms/step - loss: 6.8086e-04\n",
            "Epoch 100/100\n",
            "48/48 [==============================] - 1s 13ms/step - loss: 5.7819e-04\n"
          ],
          "name": "stdout"
        },
        {
          "output_type": "execute_result",
          "data": {
            "text/plain": [
              "<tensorflow.python.keras.callbacks.History at 0x7fefae2731d0>"
            ]
          },
          "metadata": {
            "tags": []
          },
          "execution_count": 22
        }
      ]
    },
    {
      "cell_type": "code",
      "metadata": {
        "colab": {
          "base_uri": "https://localhost:8080/",
          "height": 696
        },
        "id": "fb87scZsOxg6",
        "outputId": "75903fbc-2079-4cb1-c49f-9af093958aba"
      },
      "source": [
        "tickerSymbol = 'TSLA'\n",
        "\n",
        "#get data on this ticker\n",
        "tickerData = yf.Ticker(tickerSymbol)\n",
        "\n",
        "#get the historical prices for this ticker\n",
        "tickerDf1 = tickerData.history(period='1d', start='2021-02-25', end='2021-03-25')\n",
        "\n",
        "#see your data\n",
        "tickerDf1"
      ],
      "execution_count": 39,
      "outputs": [
        {
          "output_type": "execute_result",
          "data": {
            "text/html": [
              "<div>\n",
              "<style scoped>\n",
              "    .dataframe tbody tr th:only-of-type {\n",
              "        vertical-align: middle;\n",
              "    }\n",
              "\n",
              "    .dataframe tbody tr th {\n",
              "        vertical-align: top;\n",
              "    }\n",
              "\n",
              "    .dataframe thead th {\n",
              "        text-align: right;\n",
              "    }\n",
              "</style>\n",
              "<table border=\"1\" class=\"dataframe\">\n",
              "  <thead>\n",
              "    <tr style=\"text-align: right;\">\n",
              "      <th></th>\n",
              "      <th>Open</th>\n",
              "      <th>High</th>\n",
              "      <th>Low</th>\n",
              "      <th>Close</th>\n",
              "      <th>Volume</th>\n",
              "      <th>Dividends</th>\n",
              "      <th>Stock Splits</th>\n",
              "    </tr>\n",
              "    <tr>\n",
              "      <th>Date</th>\n",
              "      <th></th>\n",
              "      <th></th>\n",
              "      <th></th>\n",
              "      <th></th>\n",
              "      <th></th>\n",
              "      <th></th>\n",
              "      <th></th>\n",
              "    </tr>\n",
              "  </thead>\n",
              "  <tbody>\n",
              "    <tr>\n",
              "      <th>2021-02-25</th>\n",
              "      <td>726.150024</td>\n",
              "      <td>737.210022</td>\n",
              "      <td>670.580017</td>\n",
              "      <td>682.219971</td>\n",
              "      <td>39023900</td>\n",
              "      <td>0</td>\n",
              "      <td>0</td>\n",
              "    </tr>\n",
              "    <tr>\n",
              "      <th>2021-02-26</th>\n",
              "      <td>700.000000</td>\n",
              "      <td>706.700012</td>\n",
              "      <td>659.510010</td>\n",
              "      <td>675.500000</td>\n",
              "      <td>41089200</td>\n",
              "      <td>0</td>\n",
              "      <td>0</td>\n",
              "    </tr>\n",
              "    <tr>\n",
              "      <th>2021-03-01</th>\n",
              "      <td>690.109985</td>\n",
              "      <td>719.000000</td>\n",
              "      <td>685.049988</td>\n",
              "      <td>718.429993</td>\n",
              "      <td>27136200</td>\n",
              "      <td>0</td>\n",
              "      <td>0</td>\n",
              "    </tr>\n",
              "    <tr>\n",
              "      <th>2021-03-02</th>\n",
              "      <td>718.280029</td>\n",
              "      <td>721.109985</td>\n",
              "      <td>685.000000</td>\n",
              "      <td>686.440002</td>\n",
              "      <td>23732200</td>\n",
              "      <td>0</td>\n",
              "      <td>0</td>\n",
              "    </tr>\n",
              "    <tr>\n",
              "      <th>2021-03-03</th>\n",
              "      <td>687.989990</td>\n",
              "      <td>700.700012</td>\n",
              "      <td>651.710022</td>\n",
              "      <td>653.200012</td>\n",
              "      <td>30208000</td>\n",
              "      <td>0</td>\n",
              "      <td>0</td>\n",
              "    </tr>\n",
              "    <tr>\n",
              "      <th>2021-03-04</th>\n",
              "      <td>655.799988</td>\n",
              "      <td>668.450012</td>\n",
              "      <td>600.000000</td>\n",
              "      <td>621.440002</td>\n",
              "      <td>65919500</td>\n",
              "      <td>0</td>\n",
              "      <td>0</td>\n",
              "    </tr>\n",
              "    <tr>\n",
              "      <th>2021-03-05</th>\n",
              "      <td>626.059998</td>\n",
              "      <td>627.840027</td>\n",
              "      <td>539.489990</td>\n",
              "      <td>597.950012</td>\n",
              "      <td>89396500</td>\n",
              "      <td>0</td>\n",
              "      <td>0</td>\n",
              "    </tr>\n",
              "    <tr>\n",
              "      <th>2021-03-08</th>\n",
              "      <td>600.549988</td>\n",
              "      <td>620.130005</td>\n",
              "      <td>558.789978</td>\n",
              "      <td>563.000000</td>\n",
              "      <td>51787000</td>\n",
              "      <td>0</td>\n",
              "      <td>0</td>\n",
              "    </tr>\n",
              "    <tr>\n",
              "      <th>2021-03-09</th>\n",
              "      <td>608.179993</td>\n",
              "      <td>678.090027</td>\n",
              "      <td>595.210022</td>\n",
              "      <td>673.580017</td>\n",
              "      <td>67523300</td>\n",
              "      <td>0</td>\n",
              "      <td>0</td>\n",
              "    </tr>\n",
              "    <tr>\n",
              "      <th>2021-03-10</th>\n",
              "      <td>700.299988</td>\n",
              "      <td>717.849976</td>\n",
              "      <td>655.059998</td>\n",
              "      <td>668.059998</td>\n",
              "      <td>60605700</td>\n",
              "      <td>0</td>\n",
              "      <td>0</td>\n",
              "    </tr>\n",
              "    <tr>\n",
              "      <th>2021-03-11</th>\n",
              "      <td>699.400024</td>\n",
              "      <td>702.500000</td>\n",
              "      <td>677.179993</td>\n",
              "      <td>699.599976</td>\n",
              "      <td>36253900</td>\n",
              "      <td>0</td>\n",
              "      <td>0</td>\n",
              "    </tr>\n",
              "    <tr>\n",
              "      <th>2021-03-12</th>\n",
              "      <td>670.000000</td>\n",
              "      <td>694.880005</td>\n",
              "      <td>666.140015</td>\n",
              "      <td>693.729980</td>\n",
              "      <td>33583800</td>\n",
              "      <td>0</td>\n",
              "      <td>0</td>\n",
              "    </tr>\n",
              "    <tr>\n",
              "      <th>2021-03-15</th>\n",
              "      <td>694.090027</td>\n",
              "      <td>713.179993</td>\n",
              "      <td>684.039978</td>\n",
              "      <td>707.940002</td>\n",
              "      <td>29335600</td>\n",
              "      <td>0</td>\n",
              "      <td>0</td>\n",
              "    </tr>\n",
              "    <tr>\n",
              "      <th>2021-03-16</th>\n",
              "      <td>703.349976</td>\n",
              "      <td>707.919983</td>\n",
              "      <td>671.000000</td>\n",
              "      <td>676.880005</td>\n",
              "      <td>31903400</td>\n",
              "      <td>0</td>\n",
              "      <td>0</td>\n",
              "    </tr>\n",
              "    <tr>\n",
              "      <th>2021-03-17</th>\n",
              "      <td>656.869995</td>\n",
              "      <td>703.729980</td>\n",
              "      <td>651.010010</td>\n",
              "      <td>701.809998</td>\n",
              "      <td>40083300</td>\n",
              "      <td>0</td>\n",
              "      <td>0</td>\n",
              "    </tr>\n",
              "    <tr>\n",
              "      <th>2021-03-18</th>\n",
              "      <td>684.289978</td>\n",
              "      <td>689.229980</td>\n",
              "      <td>652.000000</td>\n",
              "      <td>653.159973</td>\n",
              "      <td>33224800</td>\n",
              "      <td>0</td>\n",
              "      <td>0</td>\n",
              "    </tr>\n",
              "    <tr>\n",
              "      <th>2021-03-19</th>\n",
              "      <td>646.599976</td>\n",
              "      <td>657.229980</td>\n",
              "      <td>624.619995</td>\n",
              "      <td>654.869995</td>\n",
              "      <td>42827400</td>\n",
              "      <td>0</td>\n",
              "      <td>0</td>\n",
              "    </tr>\n",
              "    <tr>\n",
              "      <th>2021-03-22</th>\n",
              "      <td>684.590027</td>\n",
              "      <td>699.619995</td>\n",
              "      <td>668.750000</td>\n",
              "      <td>670.000000</td>\n",
              "      <td>39512200</td>\n",
              "      <td>0</td>\n",
              "      <td>0</td>\n",
              "    </tr>\n",
              "    <tr>\n",
              "      <th>2021-03-23</th>\n",
              "      <td>675.770020</td>\n",
              "      <td>677.799988</td>\n",
              "      <td>657.510010</td>\n",
              "      <td>662.159973</td>\n",
              "      <td>30491900</td>\n",
              "      <td>0</td>\n",
              "      <td>0</td>\n",
              "    </tr>\n",
              "    <tr>\n",
              "      <th>2021-03-24</th>\n",
              "      <td>667.909973</td>\n",
              "      <td>668.020020</td>\n",
              "      <td>630.109985</td>\n",
              "      <td>630.270020</td>\n",
              "      <td>33795200</td>\n",
              "      <td>0</td>\n",
              "      <td>0</td>\n",
              "    </tr>\n",
              "  </tbody>\n",
              "</table>\n",
              "</div>"
            ],
            "text/plain": [
              "                  Open        High  ...  Dividends  Stock Splits\n",
              "Date                                ...                         \n",
              "2021-02-25  726.150024  737.210022  ...          0             0\n",
              "2021-02-26  700.000000  706.700012  ...          0             0\n",
              "2021-03-01  690.109985  719.000000  ...          0             0\n",
              "2021-03-02  718.280029  721.109985  ...          0             0\n",
              "2021-03-03  687.989990  700.700012  ...          0             0\n",
              "2021-03-04  655.799988  668.450012  ...          0             0\n",
              "2021-03-05  626.059998  627.840027  ...          0             0\n",
              "2021-03-08  600.549988  620.130005  ...          0             0\n",
              "2021-03-09  608.179993  678.090027  ...          0             0\n",
              "2021-03-10  700.299988  717.849976  ...          0             0\n",
              "2021-03-11  699.400024  702.500000  ...          0             0\n",
              "2021-03-12  670.000000  694.880005  ...          0             0\n",
              "2021-03-15  694.090027  713.179993  ...          0             0\n",
              "2021-03-16  703.349976  707.919983  ...          0             0\n",
              "2021-03-17  656.869995  703.729980  ...          0             0\n",
              "2021-03-18  684.289978  689.229980  ...          0             0\n",
              "2021-03-19  646.599976  657.229980  ...          0             0\n",
              "2021-03-22  684.590027  699.619995  ...          0             0\n",
              "2021-03-23  675.770020  677.799988  ...          0             0\n",
              "2021-03-24  667.909973  668.020020  ...          0             0\n",
              "\n",
              "[20 rows x 7 columns]"
            ]
          },
          "metadata": {
            "tags": []
          },
          "execution_count": 39
        }
      ]
    },
    {
      "cell_type": "code",
      "metadata": {
        "colab": {
          "base_uri": "https://localhost:8080/"
        },
        "id": "zeNEWsAMOxoM",
        "outputId": "4816e88e-b006-4f82-dadc-6eafcfc55009"
      },
      "source": [
        "real_stock_price =tickerDf1.iloc[:, 3:4].values\n",
        "real_stock_price"
      ],
      "execution_count": 40,
      "outputs": [
        {
          "output_type": "execute_result",
          "data": {
            "text/plain": [
              "array([[682.2199707 ],\n",
              "       [675.5       ],\n",
              "       [718.42999268],\n",
              "       [686.44000244],\n",
              "       [653.20001221],\n",
              "       [621.44000244],\n",
              "       [597.95001221],\n",
              "       [563.        ],\n",
              "       [673.58001709],\n",
              "       [668.05999756],\n",
              "       [699.59997559],\n",
              "       [693.72998047],\n",
              "       [707.94000244],\n",
              "       [676.88000488],\n",
              "       [701.80999756],\n",
              "       [653.15997314],\n",
              "       [654.86999512],\n",
              "       [670.        ],\n",
              "       [662.15997314],\n",
              "       [630.27001953]])"
            ]
          },
          "metadata": {
            "tags": []
          },
          "execution_count": 40
        }
      ]
    },
    {
      "cell_type": "code",
      "metadata": {
        "colab": {
          "base_uri": "https://localhost:8080/"
        },
        "id": "OrCplJQFPgnx",
        "outputId": "0a437a64-984e-41dd-9af2-09f05f008db8"
      },
      "source": [
        "test_set=tickerDf1['Close']\n",
        "test_set=pd.DataFrame(test_set)\n",
        "test_set.shape"
      ],
      "execution_count": 41,
      "outputs": [
        {
          "output_type": "execute_result",
          "data": {
            "text/plain": [
              "(20, 1)"
            ]
          },
          "metadata": {
            "tags": []
          },
          "execution_count": 41
        }
      ]
    },
    {
      "cell_type": "code",
      "metadata": {
        "id": "MRGTY_m8Ph2L"
      },
      "source": [
        "from sklearn.preprocessing import MinMaxScaler\n",
        "scaler=MinMaxScaler(feature_range=(0,1))"
      ],
      "execution_count": 42,
      "outputs": []
    },
    {
      "cell_type": "code",
      "metadata": {
        "id": "y-nPkNIWPlY8"
      },
      "source": [
        "\n",
        "dataset_total = pd.concat((tickerDf['Close'], tickerDf1['Close']), axis = 0)\n",
        "inputs = dataset_total[len(dataset_total) - len(tickerDf1) - 60:].values\n",
        "inputs = inputs.reshape(-1,1)\n"
      ],
      "execution_count": 43,
      "outputs": []
    },
    {
      "cell_type": "code",
      "metadata": {
        "id": "PRRS0i_vPvdM"
      },
      "source": [
        "inputs = scaler.fit_transform(inputs)"
      ],
      "execution_count": 44,
      "outputs": []
    },
    {
      "cell_type": "code",
      "metadata": {
        "id": "svpuagcRQS5L"
      },
      "source": [
        "X_test = []\n",
        "for i in range(60, 81):\n",
        "    X_test.append(inputs[i-60:i, 0])\n",
        "X_test = np.array(X_test)\n",
        "X_test = np.reshape(X_test, (X_test.shape[0], X_test.shape[1], 1))\n",
        "predicted_stock_price = model.predict(X_test)\n",
        "predicted_stock_price1 = scaler.inverse_transform(predicted_stock_price)"
      ],
      "execution_count": 45,
      "outputs": []
    },
    {
      "cell_type": "code",
      "metadata": {
        "colab": {
          "base_uri": "https://localhost:8080/"
        },
        "id": "JRZvg5XXQuLA",
        "outputId": "d8a23a7a-c367-469b-c6f3-72f45f7e29e2"
      },
      "source": [
        "predicted_stock_price1=pd.DataFrame(predicted_stock_price1)\n",
        "predicted_stock_price1.info()"
      ],
      "execution_count": 46,
      "outputs": [
        {
          "output_type": "stream",
          "text": [
            "<class 'pandas.core.frame.DataFrame'>\n",
            "RangeIndex: 21 entries, 0 to 20\n",
            "Data columns (total 1 columns):\n",
            " #   Column  Non-Null Count  Dtype  \n",
            "---  ------  --------------  -----  \n",
            " 0   0       21 non-null     float32\n",
            "dtypes: float32(1)\n",
            "memory usage: 212.0 bytes\n"
          ],
          "name": "stdout"
        }
      ]
    },
    {
      "cell_type": "code",
      "metadata": {
        "colab": {
          "base_uri": "https://localhost:8080/",
          "height": 295
        },
        "id": "mqaw0lYoQyaV",
        "outputId": "603f7eca-025a-4f84-ef7a-8f67ea958934"
      },
      "source": [
        "import matplotlib.pyplot as plt\n",
        "plt.plot(real_stock_price, color = 'red', label = 'Real Tesla Stock Price')\n",
        "plt.plot(predicted_stock_price1, color = 'blue', label = 'Predicted Tesla Stock Price')\n",
        "plt.title('Tesla Stock Price Prediction')\n",
        "plt.xlabel('Time')\n",
        "plt.ylabel('Tesla Stock Price')\n",
        "plt.legend()\n",
        "plt.show()"
      ],
      "execution_count": 47,
      "outputs": [
        {
          "output_type": "display_data",
          "data": {
            "image/png": "[encoded data removed]",
            "text/plain": [
              "<Figure size 432x288 with 1 Axes>"
            ]
          },
          "metadata": {
            "tags": [],
            "needs_background": "light"
          }
        }
      ]
    }
  ]
}